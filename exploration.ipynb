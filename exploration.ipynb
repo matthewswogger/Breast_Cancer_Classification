{
 "cells": [
  {
   "cell_type": "code",
   "execution_count": null,
   "metadata": {
    "collapsed": false
   },
   "outputs": [],
   "source": [
    "import pandas as pd\n",
    "import sqlite3\n",
    "import numpy as np\n",
    "import matplotlib.pyplot as plt\n",
    "from sklearn.linear_model import LogisticRegression\n",
    "from sklearn.feature_selection import RFE\n",
    "from sklearn.cross_validation import train_test_split, cross_val_predict\n",
    "from breast_cancer_functions import pick_best_features, how_many_features_do_we_want\n",
    "%matplotlib inline"
   ]
  },
  {
   "cell_type": "code",
   "execution_count": null,
   "metadata": {
    "collapsed": false,
    "scrolled": false
   },
   "outputs": [],
   "source": [
    "conn = sqlite3.connect('breast_cancer.db')\n",
    "c = conn.cursor()\n",
    "\n",
    "df = pd.read_sql('''SELECT *\n",
    "                    FROM cancer''', conn)\n",
    "\n",
    "# this gets run when I'm done working for the session\n",
    "conn.close()"
   ]
  },
  {
   "cell_type": "code",
   "execution_count": null,
   "metadata": {
    "collapsed": false
   },
   "outputs": [],
   "source": [
    "# this is the X I will use\n",
    "all_ = list(df.columns[2:])\n",
    "X = df[all_]\n",
    "X = X.assign(const=1)\n",
    "\n",
    "# make the y out of the diagnosis column, this can be used for all of the dataframes\n",
    "y = [1 if diag == 'M' else 0 for diag in df.diagnosis]"
   ]
  },
  {
   "cell_type": "code",
   "execution_count": null,
   "metadata": {
    "collapsed": false,
    "scrolled": true
   },
   "outputs": [],
   "source": [
    "# check features for how useful they are, check my functions file for more indepth explanation\n",
    "num_features_to_check = X.shape[1]\n",
    "features_ranking = pick_best_features(X, y, num_features_to_check)"
   ]
  },
  {
   "cell_type": "code",
   "execution_count": null,
   "metadata": {
    "collapsed": false,
    "scrolled": false
   },
   "outputs": [],
   "source": [
    "# see how many features I should use, check my functions file for more indepth explanation\n",
    "results, features = how_many_features_do_we_want(features_ranking, X, y)"
   ]
  },
  {
   "cell_type": "code",
   "execution_count": null,
   "metadata": {
    "collapsed": false
   },
   "outputs": [],
   "source": [
    "for key, value in results.iteritems():\n",
    "    print key, value"
   ]
  },
  {
   "cell_type": "markdown",
   "metadata": {},
   "source": [
    "In the case of diagnosing breast cancer false positives are more acceptable than false negatives. If we incorrectly tell someone she has breast cancer we can test again to see if we got it wrong, she's scared for a bit but we don't send her away with cancer. If we incorrectly tell someone she doesn't have breast cancer and she trully does, she walks out thinking she is in the clear while the cancer may be getting worse, not okay.\n",
    "\n",
    "With that said, looking at the results from testing LinearRegression models with different number of features it looks like it really stops improving at about the top 13 features. After that there is improvement but not much and I haven't even done a train test split or cross validation yet; I'm not modeling anything yet, just figureing out what features I want to use. Basically it's EDA without graphing anything.\n",
    "\n",
    "So I am going to take the first 13 spots in features: `features[:13]`"
   ]
  },
  {
   "cell_type": "code",
   "execution_count": null,
   "metadata": {
    "collapsed": false
   },
   "outputs": [],
   "source": [
    "# this is the X I will be working with\n",
    "X = X[features[:13]]\n",
    "\n",
    "# split into training and testing\n",
    "X_train, X_test, y_train, y_test = train_test_split(X,y,test_size=0.2)"
   ]
  },
  {
   "cell_type": "code",
   "execution_count": null,
   "metadata": {
    "collapsed": false
   },
   "outputs": [],
   "source": [
    "# model with cross validation\n",
    "model = LogisticRegression()\n",
    "predicted = cross_val_predict(model, X_train, y_train, cv=5)\n",
    "\n",
    "tp, tn, fp, fn = 0, 0, 0, 0\n",
    "for num in zip(np.array(y_train),predicted):\n",
    "    if num == (1,1):\n",
    "        tp += 1\n",
    "    elif num == (1,0):\n",
    "        fn += 1\n",
    "    elif num == (0,1):\n",
    "        fp += 1\n",
    "    elif num == (0,0):\n",
    "        tn += 1\n",
    "        \n",
    "tp, tn, fp, fn"
   ]
  },
  {
   "cell_type": "markdown",
   "metadata": {},
   "source": [
    "I'm going to perform grid search on every classification model I can think of and compare them tomorrow. Start using Precision and Recall."
   ]
  },
  {
   "cell_type": "code",
   "execution_count": null,
   "metadata": {
    "collapsed": true
   },
   "outputs": [],
   "source": []
  }
 ],
 "metadata": {
  "kernelspec": {
   "display_name": "Python 2",
   "language": "python",
   "name": "python2"
  },
  "language_info": {
   "codemirror_mode": {
    "name": "ipython",
    "version": 2
   },
   "file_extension": ".py",
   "mimetype": "text/x-python",
   "name": "python",
   "nbconvert_exporter": "python",
   "pygments_lexer": "ipython2",
   "version": "2.7.11"
  },
  "widgets": {
   "state": {},
   "version": "1.1.2"
  }
 },
 "nbformat": 4,
 "nbformat_minor": 0
}
